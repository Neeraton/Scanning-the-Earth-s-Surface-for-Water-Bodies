{
  "cells": [
    {
      "cell_type": "markdown",
      "metadata": {
        "id": "view-in-github",
        "colab_type": "text"
      },
      "source": [
        "<a href=\"https://colab.research.google.com/github/Neeraton/Scanning-the-Earth-s-Surface-for-Water-Bodies/blob/main/neer_detect.ipynb\" target=\"_parent\"><img src=\"https://colab.research.google.com/assets/colab-badge.svg\" alt=\"Open In Colab\"/></a>"
      ]
    },
    {
      "cell_type": "code",
      "execution_count": null,
      "metadata": {
        "id": "TgShUrGS5WR-",
        "outputId": "d961792d-e658-41bf-ca69-ab94103a7a3e",
        "colab": {
          "base_uri": "https://localhost:8080/"
        }
      },
      "outputs": [
        {
          "output_type": "stream",
          "name": "stdout",
          "text": [
            "Requirement already satisfied: rasterio in /usr/local/lib/python3.11/dist-packages (1.4.3)\n",
            "Requirement already satisfied: affine in /usr/local/lib/python3.11/dist-packages (from rasterio) (2.4.0)\n",
            "Requirement already satisfied: attrs in /usr/local/lib/python3.11/dist-packages (from rasterio) (25.1.0)\n",
            "Requirement already satisfied: certifi in /usr/local/lib/python3.11/dist-packages (from rasterio) (2025.1.31)\n",
            "Requirement already satisfied: click>=4.0 in /usr/local/lib/python3.11/dist-packages (from rasterio) (8.1.8)\n",
            "Requirement already satisfied: cligj>=0.5 in /usr/local/lib/python3.11/dist-packages (from rasterio) (0.7.2)\n",
            "Requirement already satisfied: numpy>=1.24 in /usr/local/lib/python3.11/dist-packages (from rasterio) (1.26.4)\n",
            "Requirement already satisfied: click-plugins in /usr/local/lib/python3.11/dist-packages (from rasterio) (1.1.1)\n",
            "Requirement already satisfied: pyparsing in /usr/local/lib/python3.11/dist-packages (from rasterio) (3.2.1)\n"
          ]
        }
      ],
      "source": [
        "!pip install rasterio"
      ]
    },
    {
      "cell_type": "markdown",
      "source": [
        "This command installs the Rasterio library using pip, which is a package manager for Python. It allows you to install Python packages from the Python Package Index (PyPI)."
      ],
      "metadata": {
        "id": "IQKaqkmIOPtB"
      }
    },
    {
      "cell_type": "code",
      "source": [
        "import rasterio\n",
        "import numpy as np\n",
        "import cv2\n",
        "import matplotlib.pyplot as plt"
      ],
      "metadata": {
        "id": "cAH_JOfjw2-2"
      },
      "execution_count": null,
      "outputs": []
    },
    {
      "cell_type": "markdown",
      "source": [
        "import rasterio: This imports the Rasterio library for working with geospatial raster data.\n",
        "\n",
        "import numpy as np: This imports the NumPy library, a fundamental package for numerical computing with Python. It's often imported with the alias np to make it easier to reference in the code.\n",
        "\n",
        "import cv2: This imports the OpenCV library, which is a popular computer vision library that provides tools for image processing and computer vision algorithms.\n",
        "\n",
        "import matplotlib.pyplot as plt: This imports the pyplot submodule from the Matplotlib library, which is a plotting library for Python. The alias plt is commonly used to reference the pyplot module."
      ],
      "metadata": {
        "id": "muziH1K0ORzc"
      }
    },
    {
      "cell_type": "code",
      "source": [
        "# StepStep 1: Read satellite imagery\n",
        "with rasterio.open('X_test.tif') as src:\n",
        "    # Read different bands from the satellite image\n",
        "    nir_band = src.read(4)  # Near-infrared band (indexing starts from 1)\n",
        "    green_band = src.read(3)  # Green band\n",
        "    blue_band = src.read(2)  # Blue band\n",
        "    red_band = src.read(1)  # Red band\n",
        "\n"
      ],
      "metadata": {
        "id": "DsueI4fdP8mF",
        "colab": {
          "base_uri": "https://localhost:8080/",
          "height": 582
        },
        "outputId": "a31b0b8e-8f6c-4cfa-a633-870df0c4e155"
      },
      "execution_count": null,
      "outputs": [
        {
          "output_type": "error",
          "ename": "RasterioIOError",
          "evalue": "X_test.tif: No such file or directory",
          "traceback": [
            "\u001b[0;31m---------------------------------------------------------------------------\u001b[0m",
            "\u001b[0;31mCPLE_OpenFailedError\u001b[0m                      Traceback (most recent call last)",
            "\u001b[0;32mrasterio/_base.pyx\u001b[0m in \u001b[0;36mrasterio._base.DatasetBase.__init__\u001b[0;34m()\u001b[0m\n",
            "\u001b[0;32mrasterio/_base.pyx\u001b[0m in \u001b[0;36mrasterio._base.open_dataset\u001b[0;34m()\u001b[0m\n",
            "\u001b[0;32mrasterio/_err.pyx\u001b[0m in \u001b[0;36mrasterio._err.exc_wrap_pointer\u001b[0;34m()\u001b[0m\n",
            "\u001b[0;31mCPLE_OpenFailedError\u001b[0m: X_test.tif: No such file or directory",
            "\nDuring handling of the above exception, another exception occurred:\n",
            "\u001b[0;31mRasterioIOError\u001b[0m                           Traceback (most recent call last)",
            "\u001b[0;32m<ipython-input-7-1f97413d2324>\u001b[0m in \u001b[0;36m<cell line: 0>\u001b[0;34m()\u001b[0m\n\u001b[1;32m      1\u001b[0m \u001b[0;31m# StepStep 1: Read satellite imagery\u001b[0m\u001b[0;34m\u001b[0m\u001b[0;34m\u001b[0m\u001b[0m\n\u001b[0;32m----> 2\u001b[0;31m \u001b[0;32mwith\u001b[0m \u001b[0mrasterio\u001b[0m\u001b[0;34m.\u001b[0m\u001b[0mopen\u001b[0m\u001b[0;34m(\u001b[0m\u001b[0;34m'X_test.tif'\u001b[0m\u001b[0;34m)\u001b[0m \u001b[0;32mas\u001b[0m \u001b[0msrc\u001b[0m\u001b[0;34m:\u001b[0m\u001b[0;34m\u001b[0m\u001b[0;34m\u001b[0m\u001b[0m\n\u001b[0m\u001b[1;32m      3\u001b[0m     \u001b[0;31m# Read different bands from the satellite image\u001b[0m\u001b[0;34m\u001b[0m\u001b[0;34m\u001b[0m\u001b[0m\n\u001b[1;32m      4\u001b[0m     \u001b[0mnir_band\u001b[0m \u001b[0;34m=\u001b[0m \u001b[0msrc\u001b[0m\u001b[0;34m.\u001b[0m\u001b[0mread\u001b[0m\u001b[0;34m(\u001b[0m\u001b[0;36m4\u001b[0m\u001b[0;34m)\u001b[0m  \u001b[0;31m# Near-infrared band (indexing starts from 1)\u001b[0m\u001b[0;34m\u001b[0m\u001b[0;34m\u001b[0m\u001b[0m\n\u001b[1;32m      5\u001b[0m     \u001b[0mgreen_band\u001b[0m \u001b[0;34m=\u001b[0m \u001b[0msrc\u001b[0m\u001b[0;34m.\u001b[0m\u001b[0mread\u001b[0m\u001b[0;34m(\u001b[0m\u001b[0;36m3\u001b[0m\u001b[0;34m)\u001b[0m  \u001b[0;31m# Green band\u001b[0m\u001b[0;34m\u001b[0m\u001b[0;34m\u001b[0m\u001b[0m\n",
            "\u001b[0;32m/usr/local/lib/python3.11/dist-packages/rasterio/env.py\u001b[0m in \u001b[0;36mwrapper\u001b[0;34m(*args, **kwds)\u001b[0m\n\u001b[1;32m    461\u001b[0m \u001b[0;34m\u001b[0m\u001b[0m\n\u001b[1;32m    462\u001b[0m         \u001b[0;32mwith\u001b[0m \u001b[0menv_ctor\u001b[0m\u001b[0;34m(\u001b[0m\u001b[0msession\u001b[0m\u001b[0;34m=\u001b[0m\u001b[0msession\u001b[0m\u001b[0;34m)\u001b[0m\u001b[0;34m:\u001b[0m\u001b[0;34m\u001b[0m\u001b[0;34m\u001b[0m\u001b[0m\n\u001b[0;32m--> 463\u001b[0;31m             \u001b[0;32mreturn\u001b[0m \u001b[0mf\u001b[0m\u001b[0;34m(\u001b[0m\u001b[0;34m*\u001b[0m\u001b[0margs\u001b[0m\u001b[0;34m,\u001b[0m \u001b[0;34m**\u001b[0m\u001b[0mkwds\u001b[0m\u001b[0;34m)\u001b[0m\u001b[0;34m\u001b[0m\u001b[0;34m\u001b[0m\u001b[0m\n\u001b[0m\u001b[1;32m    464\u001b[0m \u001b[0;34m\u001b[0m\u001b[0m\n\u001b[1;32m    465\u001b[0m     \u001b[0;32mreturn\u001b[0m \u001b[0mwrapper\u001b[0m\u001b[0;34m\u001b[0m\u001b[0;34m\u001b[0m\u001b[0m\n",
            "\u001b[0;32m/usr/local/lib/python3.11/dist-packages/rasterio/__init__.py\u001b[0m in \u001b[0;36mopen\u001b[0;34m(fp, mode, driver, width, height, count, crs, transform, dtype, nodata, sharing, opener, **kwargs)\u001b[0m\n\u001b[1;32m    354\u001b[0m \u001b[0;34m\u001b[0m\u001b[0m\n\u001b[1;32m    355\u001b[0m             \u001b[0;32mif\u001b[0m \u001b[0mmode\u001b[0m \u001b[0;34m==\u001b[0m \u001b[0;34m\"r\"\u001b[0m\u001b[0;34m:\u001b[0m\u001b[0;34m\u001b[0m\u001b[0;34m\u001b[0m\u001b[0m\n\u001b[0;32m--> 356\u001b[0;31m                 \u001b[0mdataset\u001b[0m \u001b[0;34m=\u001b[0m \u001b[0mDatasetReader\u001b[0m\u001b[0;34m(\u001b[0m\u001b[0mpath\u001b[0m\u001b[0;34m,\u001b[0m \u001b[0mdriver\u001b[0m\u001b[0;34m=\u001b[0m\u001b[0mdriver\u001b[0m\u001b[0;34m,\u001b[0m \u001b[0msharing\u001b[0m\u001b[0;34m=\u001b[0m\u001b[0msharing\u001b[0m\u001b[0;34m,\u001b[0m \u001b[0;34m**\u001b[0m\u001b[0mkwargs\u001b[0m\u001b[0;34m)\u001b[0m\u001b[0;34m\u001b[0m\u001b[0;34m\u001b[0m\u001b[0m\n\u001b[0m\u001b[1;32m    357\u001b[0m             \u001b[0;32melif\u001b[0m \u001b[0mmode\u001b[0m \u001b[0;34m==\u001b[0m \u001b[0;34m\"r+\"\u001b[0m\u001b[0;34m:\u001b[0m\u001b[0;34m\u001b[0m\u001b[0;34m\u001b[0m\u001b[0m\n\u001b[1;32m    358\u001b[0m                 dataset = get_writer_for_path(path, driver=driver)(\n",
            "\u001b[0;32mrasterio/_base.pyx\u001b[0m in \u001b[0;36mrasterio._base.DatasetBase.__init__\u001b[0;34m()\u001b[0m\n",
            "\u001b[0;31mRasterioIOError\u001b[0m: X_test.tif: No such file or directory"
          ]
        }
      ]
    },
    {
      "cell_type": "markdown",
      "source": [
        "This block of code reads a multispectral satellite image from a GeoTIFF file named 'X_test.tif'.\n",
        "It reads different bands (e.g., NIR, green, blue, and red) from the satellite image using Rasterio's src.read() method."
      ],
      "metadata": {
        "id": "FjT5YswIOl1k"
      }
    },
    {
      "cell_type": "code",
      "source": [
        "plt.imshow(np.dstack((red_band, green_band, blue_band)))\n",
        "plt.title('Original Satellite Image')\n",
        "plt.axis('off')"
      ],
      "metadata": {
        "id": "oRq76hpaOthB"
      },
      "execution_count": null,
      "outputs": []
    },
    {
      "cell_type": "markdown",
      "source": [
        "This code block displays the original satellite image by stacking the individual bands (red, green, and blue) using NumPy's np.dstack() function.\n",
        "Matplotlib's imshow() function is used to display the image, plt.title() sets the title of the plot, and plt.axis('off') removes the axis labels."
      ],
      "metadata": {
        "id": "yNrJq1HbO4dr"
      }
    },
    {
      "cell_type": "code",
      "source": [
        "# Step 2: Compute NDWI (Normalized Difference Water Index)\n",
        "ndwi = np.where((nir_band + green_band) == 0., 0, (nir_band - green_band) / (nir_band + green_band))\n",
        "\n",
        "plt.imshow(ndwi, cmap='RdYlBu')\n",
        "plt.title('Normalized Difference Water Index (NDWI)')\n",
        "plt.colorbar(label='NDWI Value')\n",
        "plt.axis('off')"
      ],
      "metadata": {
        "id": "E46D1FD0PsYc"
      },
      "execution_count": null,
      "outputs": []
    },
    {
      "cell_type": "markdown",
      "source": [
        "Here, NDWI (Normalized Difference Water Index) is computed using the near-infrared (NIR) and green bands.\n",
        "NDWI is a measure of water content in remote sensing imagery. The formula (NIR - Green) / (NIR + Green) calculates the NDWI values.\n",
        "NumPy's np.where() function is used to handle division by zero.\n",
        "\n",
        "This block of code displays the NDWI image using Matplotlib. cmap='RdYlBu' sets the color map for visualization.\n",
        "plt.colorbar() adds a color bar to the plot, and plt.axis('off') removes the axis labels."
      ],
      "metadata": {
        "id": "HlrAWgZEPZ8-"
      }
    },
    {
      "cell_type": "code",
      "source": [
        "# Step 3: Thresholding\n",
        "threshold = 0.1\n",
        "water_mask = np.where(ndwi > threshold, 1, 0)"
      ],
      "metadata": {
        "id": "IkLnfOszPvuD"
      },
      "execution_count": null,
      "outputs": []
    },
    {
      "cell_type": "markdown",
      "source": [
        "Here, a threshold value is set to distinguish water from non-water areas.\n",
        "Pixels with NDWI values above the threshold are classified as water, and pixels below the threshold are classified as non-water.\n",
        "The resulting binary mask is stored in water_mask."
      ],
      "metadata": {
        "id": "omM_GqzbPw3i"
      }
    },
    {
      "cell_type": "code",
      "source": [
        "# Step 4: Post-processing (Optional)\n",
        "kernel = np.ones((5, 5), np.uint8)\n",
        "water_mask = cv2.morphologyEx(water_mask.astype(np.uint8), cv2.MORPH_CLOSE, kernel)\n",
        "\n",
        "plt.imshow(water_mask, cmap='Blues')\n",
        "plt.title('Detected Water Bodies')\n",
        "plt.axis('off')"
      ],
      "metadata": {
        "id": "JC3lWOPoP01k"
      },
      "execution_count": null,
      "outputs": []
    },
    {
      "cell_type": "markdown",
      "source": [
        "This block performs post-processing on the water mask using morphological operations.\n",
        "It applies a closing operation to fill in small gaps and smooth the boundaries of the detected water bodies.\n",
        "\n"
      ],
      "metadata": {
        "id": "YHgrv6jlP0ky"
      }
    },
    {
      "cell_type": "code",
      "execution_count": null,
      "metadata": {
        "id": "Doru2ImnvtW9"
      },
      "outputs": [],
      "source": [
        "# Step 5:Overlay the water mask on the original image\n",
        "plt.imshow(np.dstack((red_band, green_band, blue_band)))\n",
        "plt.imshow(water_mask, cmap='Blues', alpha=0.3)  # Overlay water mask with transparency\n",
        "plt.title('Water Bodies Overlay')\n",
        "plt.axis('off')"
      ]
    },
    {
      "cell_type": "markdown",
      "source": [
        "Finally, this block overlays the water mask on the original satellite image to visualize the detected water bodies.\n",
        "The alpha parameter controls the transparency of the overlay."
      ],
      "metadata": {
        "id": "jAQJZU56P8yN"
      }
    }
  ],
  "metadata": {
    "colab": {
      "provenance": [],
      "include_colab_link": true
    },
    "kernelspec": {
      "display_name": "Python 3",
      "name": "python3"
    },
    "language_info": {
      "name": "python"
    }
  },
  "nbformat": 4,
  "nbformat_minor": 0
}